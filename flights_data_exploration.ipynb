{
  "nbformat": 4,
  "nbformat_minor": 0,
  "metadata": {
    "colab": {
      "provenance": [],
      "collapsed_sections": [
        "0LJ8Ffcdx9A4"
      ]
    },
    "kernelspec": {
      "name": "python3",
      "display_name": "Python 3"
    },
    "language_info": {
      "name": "python"
    }
  },
  "cells": [
    {
      "cell_type": "markdown",
      "source": [
        "# Flights Data Exploration Challenge\n",
        "In this challge, you'll explore a real-world dataset containing flights data from the US Department of Transportation.\n",
        "\n",
        "Let's start by loading and viewing the data."
      ],
      "metadata": {
        "id": "0lnfjB1sSQJX"
      }
    },
    {
      "cell_type": "code",
      "execution_count": 88,
      "metadata": {
        "colab": {
          "base_uri": "https://localhost:8080/",
          "height": 409
        },
        "id": "F-DA1oEy-ZcS",
        "outputId": "52953f22-8042-4c6c-bef7-d4a5ced5432c"
      },
      "outputs": [
        {
          "output_type": "execute_result",
          "data": {
            "text/plain": [
              "   Year  Month  DayofMonth  DayOfWeek Carrier  OriginAirportID  \\\n",
              "0  2013      9          16          1      DL            15304   \n",
              "1  2013      9          23          1      WN            14122   \n",
              "2  2013      9           7          6      AS            14747   \n",
              "3  2013      7          22          1      OO            13930   \n",
              "4  2013      5          16          4      DL            13931   \n",
              "\n",
              "              OriginAirportName  OriginCity OriginState  DestAirportID  \\\n",
              "0           Tampa International       Tampa          FL          12478   \n",
              "1      Pittsburgh International  Pittsburgh          PA          13232   \n",
              "2  Seattle/Tacoma International     Seattle          WA          11278   \n",
              "3  Chicago O'Hare International     Chicago          IL          11042   \n",
              "4         Norfolk International     Norfolk          VA          10397   \n",
              "\n",
              "                            DestAirportName    DestCity DestState  CRSDepTime  \\\n",
              "0             John F. Kennedy International    New York        NY        1539   \n",
              "1              Chicago Midway International     Chicago        IL         710   \n",
              "2         Ronald Reagan Washington National  Washington        DC         810   \n",
              "3           Cleveland-Hopkins International   Cleveland        OH         804   \n",
              "4  Hartsfield-Jackson Atlanta International     Atlanta        GA         545   \n",
              "\n",
              "   DepDelay  DepDel15  CRSArrTime  ArrDelay  ArrDel15  Cancelled  \n",
              "0         4       0.0        1824        13         0          0  \n",
              "1         3       0.0         740        22         1          0  \n",
              "2        -3       0.0        1614        -7         0          0  \n",
              "3        35       1.0        1027        33         1          0  \n",
              "4        -1       0.0         728        -9         0          0  "
            ],
            "text/html": [
              "\n",
              "  <div id=\"df-d7d38cc0-45fb-42e8-8aa8-0b31d5bf5d38\">\n",
              "    <div class=\"colab-df-container\">\n",
              "      <div>\n",
              "<style scoped>\n",
              "    .dataframe tbody tr th:only-of-type {\n",
              "        vertical-align: middle;\n",
              "    }\n",
              "\n",
              "    .dataframe tbody tr th {\n",
              "        vertical-align: top;\n",
              "    }\n",
              "\n",
              "    .dataframe thead th {\n",
              "        text-align: right;\n",
              "    }\n",
              "</style>\n",
              "<table border=\"1\" class=\"dataframe\">\n",
              "  <thead>\n",
              "    <tr style=\"text-align: right;\">\n",
              "      <th></th>\n",
              "      <th>Year</th>\n",
              "      <th>Month</th>\n",
              "      <th>DayofMonth</th>\n",
              "      <th>DayOfWeek</th>\n",
              "      <th>Carrier</th>\n",
              "      <th>OriginAirportID</th>\n",
              "      <th>OriginAirportName</th>\n",
              "      <th>OriginCity</th>\n",
              "      <th>OriginState</th>\n",
              "      <th>DestAirportID</th>\n",
              "      <th>DestAirportName</th>\n",
              "      <th>DestCity</th>\n",
              "      <th>DestState</th>\n",
              "      <th>CRSDepTime</th>\n",
              "      <th>DepDelay</th>\n",
              "      <th>DepDel15</th>\n",
              "      <th>CRSArrTime</th>\n",
              "      <th>ArrDelay</th>\n",
              "      <th>ArrDel15</th>\n",
              "      <th>Cancelled</th>\n",
              "    </tr>\n",
              "  </thead>\n",
              "  <tbody>\n",
              "    <tr>\n",
              "      <th>0</th>\n",
              "      <td>2013</td>\n",
              "      <td>9</td>\n",
              "      <td>16</td>\n",
              "      <td>1</td>\n",
              "      <td>DL</td>\n",
              "      <td>15304</td>\n",
              "      <td>Tampa International</td>\n",
              "      <td>Tampa</td>\n",
              "      <td>FL</td>\n",
              "      <td>12478</td>\n",
              "      <td>John F. Kennedy International</td>\n",
              "      <td>New York</td>\n",
              "      <td>NY</td>\n",
              "      <td>1539</td>\n",
              "      <td>4</td>\n",
              "      <td>0.0</td>\n",
              "      <td>1824</td>\n",
              "      <td>13</td>\n",
              "      <td>0</td>\n",
              "      <td>0</td>\n",
              "    </tr>\n",
              "    <tr>\n",
              "      <th>1</th>\n",
              "      <td>2013</td>\n",
              "      <td>9</td>\n",
              "      <td>23</td>\n",
              "      <td>1</td>\n",
              "      <td>WN</td>\n",
              "      <td>14122</td>\n",
              "      <td>Pittsburgh International</td>\n",
              "      <td>Pittsburgh</td>\n",
              "      <td>PA</td>\n",
              "      <td>13232</td>\n",
              "      <td>Chicago Midway International</td>\n",
              "      <td>Chicago</td>\n",
              "      <td>IL</td>\n",
              "      <td>710</td>\n",
              "      <td>3</td>\n",
              "      <td>0.0</td>\n",
              "      <td>740</td>\n",
              "      <td>22</td>\n",
              "      <td>1</td>\n",
              "      <td>0</td>\n",
              "    </tr>\n",
              "    <tr>\n",
              "      <th>2</th>\n",
              "      <td>2013</td>\n",
              "      <td>9</td>\n",
              "      <td>7</td>\n",
              "      <td>6</td>\n",
              "      <td>AS</td>\n",
              "      <td>14747</td>\n",
              "      <td>Seattle/Tacoma International</td>\n",
              "      <td>Seattle</td>\n",
              "      <td>WA</td>\n",
              "      <td>11278</td>\n",
              "      <td>Ronald Reagan Washington National</td>\n",
              "      <td>Washington</td>\n",
              "      <td>DC</td>\n",
              "      <td>810</td>\n",
              "      <td>-3</td>\n",
              "      <td>0.0</td>\n",
              "      <td>1614</td>\n",
              "      <td>-7</td>\n",
              "      <td>0</td>\n",
              "      <td>0</td>\n",
              "    </tr>\n",
              "    <tr>\n",
              "      <th>3</th>\n",
              "      <td>2013</td>\n",
              "      <td>7</td>\n",
              "      <td>22</td>\n",
              "      <td>1</td>\n",
              "      <td>OO</td>\n",
              "      <td>13930</td>\n",
              "      <td>Chicago O'Hare International</td>\n",
              "      <td>Chicago</td>\n",
              "      <td>IL</td>\n",
              "      <td>11042</td>\n",
              "      <td>Cleveland-Hopkins International</td>\n",
              "      <td>Cleveland</td>\n",
              "      <td>OH</td>\n",
              "      <td>804</td>\n",
              "      <td>35</td>\n",
              "      <td>1.0</td>\n",
              "      <td>1027</td>\n",
              "      <td>33</td>\n",
              "      <td>1</td>\n",
              "      <td>0</td>\n",
              "    </tr>\n",
              "    <tr>\n",
              "      <th>4</th>\n",
              "      <td>2013</td>\n",
              "      <td>5</td>\n",
              "      <td>16</td>\n",
              "      <td>4</td>\n",
              "      <td>DL</td>\n",
              "      <td>13931</td>\n",
              "      <td>Norfolk International</td>\n",
              "      <td>Norfolk</td>\n",
              "      <td>VA</td>\n",
              "      <td>10397</td>\n",
              "      <td>Hartsfield-Jackson Atlanta International</td>\n",
              "      <td>Atlanta</td>\n",
              "      <td>GA</td>\n",
              "      <td>545</td>\n",
              "      <td>-1</td>\n",
              "      <td>0.0</td>\n",
              "      <td>728</td>\n",
              "      <td>-9</td>\n",
              "      <td>0</td>\n",
              "      <td>0</td>\n",
              "    </tr>\n",
              "  </tbody>\n",
              "</table>\n",
              "</div>\n",
              "      <button class=\"colab-df-convert\" onclick=\"convertToInteractive('df-d7d38cc0-45fb-42e8-8aa8-0b31d5bf5d38')\"\n",
              "              title=\"Convert this dataframe to an interactive table.\"\n",
              "              style=\"display:none;\">\n",
              "        \n",
              "  <svg xmlns=\"http://www.w3.org/2000/svg\" height=\"24px\"viewBox=\"0 0 24 24\"\n",
              "       width=\"24px\">\n",
              "    <path d=\"M0 0h24v24H0V0z\" fill=\"none\"/>\n",
              "    <path d=\"M18.56 5.44l.94 2.06.94-2.06 2.06-.94-2.06-.94-.94-2.06-.94 2.06-2.06.94zm-11 1L8.5 8.5l.94-2.06 2.06-.94-2.06-.94L8.5 2.5l-.94 2.06-2.06.94zm10 10l.94 2.06.94-2.06 2.06-.94-2.06-.94-.94-2.06-.94 2.06-2.06.94z\"/><path d=\"M17.41 7.96l-1.37-1.37c-.4-.4-.92-.59-1.43-.59-.52 0-1.04.2-1.43.59L10.3 9.45l-7.72 7.72c-.78.78-.78 2.05 0 2.83L4 21.41c.39.39.9.59 1.41.59.51 0 1.02-.2 1.41-.59l7.78-7.78 2.81-2.81c.8-.78.8-2.07 0-2.86zM5.41 20L4 18.59l7.72-7.72 1.47 1.35L5.41 20z\"/>\n",
              "  </svg>\n",
              "      </button>\n",
              "      \n",
              "  <style>\n",
              "    .colab-df-container {\n",
              "      display:flex;\n",
              "      flex-wrap:wrap;\n",
              "      gap: 12px;\n",
              "    }\n",
              "\n",
              "    .colab-df-convert {\n",
              "      background-color: #E8F0FE;\n",
              "      border: none;\n",
              "      border-radius: 50%;\n",
              "      cursor: pointer;\n",
              "      display: none;\n",
              "      fill: #1967D2;\n",
              "      height: 32px;\n",
              "      padding: 0 0 0 0;\n",
              "      width: 32px;\n",
              "    }\n",
              "\n",
              "    .colab-df-convert:hover {\n",
              "      background-color: #E2EBFA;\n",
              "      box-shadow: 0px 1px 2px rgba(60, 64, 67, 0.3), 0px 1px 3px 1px rgba(60, 64, 67, 0.15);\n",
              "      fill: #174EA6;\n",
              "    }\n",
              "\n",
              "    [theme=dark] .colab-df-convert {\n",
              "      background-color: #3B4455;\n",
              "      fill: #D2E3FC;\n",
              "    }\n",
              "\n",
              "    [theme=dark] .colab-df-convert:hover {\n",
              "      background-color: #434B5C;\n",
              "      box-shadow: 0px 1px 3px 1px rgba(0, 0, 0, 0.15);\n",
              "      filter: drop-shadow(0px 1px 2px rgba(0, 0, 0, 0.3));\n",
              "      fill: #FFFFFF;\n",
              "    }\n",
              "  </style>\n",
              "\n",
              "      <script>\n",
              "        const buttonEl =\n",
              "          document.querySelector('#df-d7d38cc0-45fb-42e8-8aa8-0b31d5bf5d38 button.colab-df-convert');\n",
              "        buttonEl.style.display =\n",
              "          google.colab.kernel.accessAllowed ? 'block' : 'none';\n",
              "\n",
              "        async function convertToInteractive(key) {\n",
              "          const element = document.querySelector('#df-d7d38cc0-45fb-42e8-8aa8-0b31d5bf5d38');\n",
              "          const dataTable =\n",
              "            await google.colab.kernel.invokeFunction('convertToInteractive',\n",
              "                                                     [key], {});\n",
              "          if (!dataTable) return;\n",
              "\n",
              "          const docLinkHtml = 'Like what you see? Visit the ' +\n",
              "            '<a target=\"_blank\" href=https://colab.research.google.com/notebooks/data_table.ipynb>data table notebook</a>'\n",
              "            + ' to learn more about interactive tables.';\n",
              "          element.innerHTML = '';\n",
              "          dataTable['output_type'] = 'display_data';\n",
              "          await google.colab.output.renderOutput(dataTable, element);\n",
              "          const docLink = document.createElement('div');\n",
              "          docLink.innerHTML = docLinkHtml;\n",
              "          element.appendChild(docLink);\n",
              "        }\n",
              "      </script>\n",
              "    </div>\n",
              "  </div>\n",
              "  "
            ]
          },
          "metadata": {},
          "execution_count": 88
        }
      ],
      "source": [
        "import pandas as pd\n",
        "\n",
        "df_flights = pd.read_csv('https://raw.githubusercontent.com/MicrosoftDocs/ml-basics/master/challenges/data/flights.csv')\n",
        "df_flights.head()"
      ]
    },
    {
      "cell_type": "markdown",
      "source": [
        "The dataset contains observations of US domestic flights in 2013, and consists of the following fields:\n",
        "\n",
        "* **Year**: The year of the flight (all records are from 2013)\n",
        "* **Month**: The month of the flight\n",
        "* **DayofMonth**: The day of the month on which the flight departed\n",
        "* **DayOfWeek**: The day of the week on which the flight departed - from 1 (Monday) to 7 (Sunday)\n",
        "* **Carrier**: The two-letter abbreviation for the airline.\n",
        "* **OriginAirportID**: A unique numeric identifier for the departure aiport\n",
        "* **OriginAirportName**: The full name of the departure airport\n",
        "* **OriginCity**: The departure airport city\n",
        "* **OriginState**: The departure airport state\n",
        "* **DestAirportID**: A unique numeric identifier for the destination aiport\n",
        "* **DestAirportName**: The full name of the destination airport\n",
        "* **DestCity**: The destination airport city\n",
        "* **DestState**: The destination airport state\n",
        "* **CRSDepTime**: The scheduled departure time\n",
        "* **DepDelay**: The number of minutes departure was delayed (flight that left ahead of schedule have a negative value)\n",
        "* **DelDelay15**: A binary indicator that departure was delayed by more than 15 minutes (and therefore considered \"late\")\n",
        "* **CRSArrTime**: The scheduled arrival time\n",
        "* **ArrDelay**: The number of minutes arrival was delayed (flight that arrived ahead of schedule have a negative value)\n",
        "* **ArrDelay15**: A binary indicator that arrival was delayed by more than 15 minutes (and therefore considered \"late\")\n",
        "* **Cancelled**: A binary indicator that the flight was cancelled\n",
        "\n",
        "Your challenge is to explore the flight data to analyze possible factors that affect delays in departure or arrival of a flight.\n",
        "\n",
        "1.   Start by cleaning the data.\n",
        "  * Identify any null or missing data, and impute appropriate replacement values.\n",
        "  * Identify and eliminate any outliers in the DepDelay and ArrDelay columns.\n",
        "\n",
        "2.   Explore the cleaned data.\n",
        "  * View summary statistics for the numeric fields in the dataset.\n",
        "  * Determine the distribution of the DepDelay and ArrDelay columns.\n",
        "  * Use statistics, aggregate functions, and visualizations to answer the following questions:\n",
        "      * What are the average (mean) departure and arrival delays?\n",
        "      * How do the carriers compare in terms of arrival delay performance?\n",
        "      * Are some days of the week more prone to arrival days than others?\n",
        "      * Which departure airport has the highest average departure delay?\n",
        "      * Do late* departures tend to result in longer arrival delays than on-time departures?*\n",
        "      * Which route (from origin airport to destination airport) has the most late* arrivals?*\n",
        "      * Which route has the highest average arrival delay?"
      ],
      "metadata": {
        "id": "PNXxh0X3SghN"
      }
    },
    {
      "cell_type": "markdown",
      "source": [
        "## Start by cleaning the data"
      ],
      "metadata": {
        "id": "0LJ8Ffcdx9A4"
      }
    },
    {
      "cell_type": "markdown",
      "source": [
        "### Identify any null or missing data, and impute appropriate replacement values."
      ],
      "metadata": {
        "id": "x58_BXOBzHpB"
      }
    },
    {
      "cell_type": "code",
      "source": [
        "df_flights.isnull().sum()"
      ],
      "metadata": {
        "id": "VqVNy-fhREqD",
        "colab": {
          "base_uri": "https://localhost:8080/"
        },
        "outputId": "56b3b2be-f512-4b45-fddf-5a004bc1b412"
      },
      "execution_count": 89,
      "outputs": [
        {
          "output_type": "execute_result",
          "data": {
            "text/plain": [
              "Year                    0\n",
              "Month                   0\n",
              "DayofMonth              0\n",
              "DayOfWeek               0\n",
              "Carrier                 0\n",
              "OriginAirportID         0\n",
              "OriginAirportName       0\n",
              "OriginCity              0\n",
              "OriginState             0\n",
              "DestAirportID           0\n",
              "DestAirportName         0\n",
              "DestCity                0\n",
              "DestState               0\n",
              "CRSDepTime              0\n",
              "DepDelay                0\n",
              "DepDel15             2761\n",
              "CRSArrTime              0\n",
              "ArrDelay                0\n",
              "ArrDel15                0\n",
              "Cancelled               0\n",
              "dtype: int64"
            ]
          },
          "metadata": {},
          "execution_count": 89
        }
      ]
    },
    {
      "cell_type": "markdown",
      "source": [
        "When all nulls in each column are added up, we notice that only DepDel15 has null values. As the number of nulls is high (2761), it is necessary to find a value for replacing the nulls.\n",
        "\n",
        "To do this, I will compare the null values of the column DepDel15 (indicates that the departure was delayed by more than 15 minutes) with DepDelay (indicates the delay time of the departure)."
      ],
      "metadata": {
        "id": "bohznThitFmy"
      }
    },
    {
      "cell_type": "code",
      "source": [
        "df_flights[['DepDelay','DepDel15']][df_flights.DepDel15.isnull()]"
      ],
      "metadata": {
        "colab": {
          "base_uri": "https://localhost:8080/",
          "height": 424
        },
        "id": "FBMQGyEnzIUh",
        "outputId": "e77a897c-bde2-4a69-ffb3-c5f242cb9ad0"
      },
      "execution_count": 90,
      "outputs": [
        {
          "output_type": "execute_result",
          "data": {
            "text/plain": [
              "        DepDelay  DepDel15\n",
              "171            0       NaN\n",
              "359            0       NaN\n",
              "429            0       NaN\n",
              "545            0       NaN\n",
              "554            0       NaN\n",
              "...          ...       ...\n",
              "271410         0       NaN\n",
              "271607         0       NaN\n",
              "271634         0       NaN\n",
              "271671         0       NaN\n",
              "271885         0       NaN\n",
              "\n",
              "[2761 rows x 2 columns]"
            ],
            "text/html": [
              "\n",
              "  <div id=\"df-8a144c4c-e17d-46a3-9ada-79741d1e97c9\">\n",
              "    <div class=\"colab-df-container\">\n",
              "      <div>\n",
              "<style scoped>\n",
              "    .dataframe tbody tr th:only-of-type {\n",
              "        vertical-align: middle;\n",
              "    }\n",
              "\n",
              "    .dataframe tbody tr th {\n",
              "        vertical-align: top;\n",
              "    }\n",
              "\n",
              "    .dataframe thead th {\n",
              "        text-align: right;\n",
              "    }\n",
              "</style>\n",
              "<table border=\"1\" class=\"dataframe\">\n",
              "  <thead>\n",
              "    <tr style=\"text-align: right;\">\n",
              "      <th></th>\n",
              "      <th>DepDelay</th>\n",
              "      <th>DepDel15</th>\n",
              "    </tr>\n",
              "  </thead>\n",
              "  <tbody>\n",
              "    <tr>\n",
              "      <th>171</th>\n",
              "      <td>0</td>\n",
              "      <td>NaN</td>\n",
              "    </tr>\n",
              "    <tr>\n",
              "      <th>359</th>\n",
              "      <td>0</td>\n",
              "      <td>NaN</td>\n",
              "    </tr>\n",
              "    <tr>\n",
              "      <th>429</th>\n",
              "      <td>0</td>\n",
              "      <td>NaN</td>\n",
              "    </tr>\n",
              "    <tr>\n",
              "      <th>545</th>\n",
              "      <td>0</td>\n",
              "      <td>NaN</td>\n",
              "    </tr>\n",
              "    <tr>\n",
              "      <th>554</th>\n",
              "      <td>0</td>\n",
              "      <td>NaN</td>\n",
              "    </tr>\n",
              "    <tr>\n",
              "      <th>...</th>\n",
              "      <td>...</td>\n",
              "      <td>...</td>\n",
              "    </tr>\n",
              "    <tr>\n",
              "      <th>271410</th>\n",
              "      <td>0</td>\n",
              "      <td>NaN</td>\n",
              "    </tr>\n",
              "    <tr>\n",
              "      <th>271607</th>\n",
              "      <td>0</td>\n",
              "      <td>NaN</td>\n",
              "    </tr>\n",
              "    <tr>\n",
              "      <th>271634</th>\n",
              "      <td>0</td>\n",
              "      <td>NaN</td>\n",
              "    </tr>\n",
              "    <tr>\n",
              "      <th>271671</th>\n",
              "      <td>0</td>\n",
              "      <td>NaN</td>\n",
              "    </tr>\n",
              "    <tr>\n",
              "      <th>271885</th>\n",
              "      <td>0</td>\n",
              "      <td>NaN</td>\n",
              "    </tr>\n",
              "  </tbody>\n",
              "</table>\n",
              "<p>2761 rows × 2 columns</p>\n",
              "</div>\n",
              "      <button class=\"colab-df-convert\" onclick=\"convertToInteractive('df-8a144c4c-e17d-46a3-9ada-79741d1e97c9')\"\n",
              "              title=\"Convert this dataframe to an interactive table.\"\n",
              "              style=\"display:none;\">\n",
              "        \n",
              "  <svg xmlns=\"http://www.w3.org/2000/svg\" height=\"24px\"viewBox=\"0 0 24 24\"\n",
              "       width=\"24px\">\n",
              "    <path d=\"M0 0h24v24H0V0z\" fill=\"none\"/>\n",
              "    <path d=\"M18.56 5.44l.94 2.06.94-2.06 2.06-.94-2.06-.94-.94-2.06-.94 2.06-2.06.94zm-11 1L8.5 8.5l.94-2.06 2.06-.94-2.06-.94L8.5 2.5l-.94 2.06-2.06.94zm10 10l.94 2.06.94-2.06 2.06-.94-2.06-.94-.94-2.06-.94 2.06-2.06.94z\"/><path d=\"M17.41 7.96l-1.37-1.37c-.4-.4-.92-.59-1.43-.59-.52 0-1.04.2-1.43.59L10.3 9.45l-7.72 7.72c-.78.78-.78 2.05 0 2.83L4 21.41c.39.39.9.59 1.41.59.51 0 1.02-.2 1.41-.59l7.78-7.78 2.81-2.81c.8-.78.8-2.07 0-2.86zM5.41 20L4 18.59l7.72-7.72 1.47 1.35L5.41 20z\"/>\n",
              "  </svg>\n",
              "      </button>\n",
              "      \n",
              "  <style>\n",
              "    .colab-df-container {\n",
              "      display:flex;\n",
              "      flex-wrap:wrap;\n",
              "      gap: 12px;\n",
              "    }\n",
              "\n",
              "    .colab-df-convert {\n",
              "      background-color: #E8F0FE;\n",
              "      border: none;\n",
              "      border-radius: 50%;\n",
              "      cursor: pointer;\n",
              "      display: none;\n",
              "      fill: #1967D2;\n",
              "      height: 32px;\n",
              "      padding: 0 0 0 0;\n",
              "      width: 32px;\n",
              "    }\n",
              "\n",
              "    .colab-df-convert:hover {\n",
              "      background-color: #E2EBFA;\n",
              "      box-shadow: 0px 1px 2px rgba(60, 64, 67, 0.3), 0px 1px 3px 1px rgba(60, 64, 67, 0.15);\n",
              "      fill: #174EA6;\n",
              "    }\n",
              "\n",
              "    [theme=dark] .colab-df-convert {\n",
              "      background-color: #3B4455;\n",
              "      fill: #D2E3FC;\n",
              "    }\n",
              "\n",
              "    [theme=dark] .colab-df-convert:hover {\n",
              "      background-color: #434B5C;\n",
              "      box-shadow: 0px 1px 3px 1px rgba(0, 0, 0, 0.15);\n",
              "      filter: drop-shadow(0px 1px 2px rgba(0, 0, 0, 0.3));\n",
              "      fill: #FFFFFF;\n",
              "    }\n",
              "  </style>\n",
              "\n",
              "      <script>\n",
              "        const buttonEl =\n",
              "          document.querySelector('#df-8a144c4c-e17d-46a3-9ada-79741d1e97c9 button.colab-df-convert');\n",
              "        buttonEl.style.display =\n",
              "          google.colab.kernel.accessAllowed ? 'block' : 'none';\n",
              "\n",
              "        async function convertToInteractive(key) {\n",
              "          const element = document.querySelector('#df-8a144c4c-e17d-46a3-9ada-79741d1e97c9');\n",
              "          const dataTable =\n",
              "            await google.colab.kernel.invokeFunction('convertToInteractive',\n",
              "                                                     [key], {});\n",
              "          if (!dataTable) return;\n",
              "\n",
              "          const docLinkHtml = 'Like what you see? Visit the ' +\n",
              "            '<a target=\"_blank\" href=https://colab.research.google.com/notebooks/data_table.ipynb>data table notebook</a>'\n",
              "            + ' to learn more about interactive tables.';\n",
              "          element.innerHTML = '';\n",
              "          dataTable['output_type'] = 'display_data';\n",
              "          await google.colab.output.renderOutput(dataTable, element);\n",
              "          const docLink = document.createElement('div');\n",
              "          docLink.innerHTML = docLinkHtml;\n",
              "          element.appendChild(docLink);\n",
              "        }\n",
              "      </script>\n",
              "    </div>\n",
              "  </div>\n",
              "  "
            ]
          },
          "metadata": {},
          "execution_count": 90
        }
      ]
    },
    {
      "cell_type": "markdown",
      "source": [
        "In doing so, we notice that all (or most) of the null values of DepDel15 appear related to zero values of departure delay.\n",
        "\n",
        "Therefor, considering that the departure delay time is zero, one solution to the null values of DepDel15 is to consider that these flights were not delayed and replace the null values by zero."
      ],
      "metadata": {
        "id": "7uWsK80Mv6o2"
      }
    },
    {
      "cell_type": "code",
      "source": [
        "df_flights['DepDel15'].fillna(0, inplace=True)\n",
        "df_flights.isnull().sum()"
      ],
      "metadata": {
        "colab": {
          "base_uri": "https://localhost:8080/"
        },
        "id": "6fdG6DFW6O1i",
        "outputId": "e3d13982-070a-495c-d99b-414d4d5f8821"
      },
      "execution_count": 91,
      "outputs": [
        {
          "output_type": "execute_result",
          "data": {
            "text/plain": [
              "Year                 0\n",
              "Month                0\n",
              "DayofMonth           0\n",
              "DayOfWeek            0\n",
              "Carrier              0\n",
              "OriginAirportID      0\n",
              "OriginAirportName    0\n",
              "OriginCity           0\n",
              "OriginState          0\n",
              "DestAirportID        0\n",
              "DestAirportName      0\n",
              "DestCity             0\n",
              "DestState            0\n",
              "CRSDepTime           0\n",
              "DepDelay             0\n",
              "DepDel15             0\n",
              "CRSArrTime           0\n",
              "ArrDelay             0\n",
              "ArrDel15             0\n",
              "Cancelled            0\n",
              "dtype: int64"
            ]
          },
          "metadata": {},
          "execution_count": 91
        }
      ]
    },
    {
      "cell_type": "markdown",
      "source": [
        "In this way, we no longer find null values in any column."
      ],
      "metadata": {
        "id": "wRZB44NUx6DL"
      }
    },
    {
      "cell_type": "markdown",
      "source": [
        "### Identify and eliminate any outliers in the DepDelay and ArrDelay columns."
      ],
      "metadata": {
        "id": "3aP7shauBRLl"
      }
    },
    {
      "cell_type": "code",
      "source": [
        "def distribution(column):\n",
        "  from matplotlib import pyplot as plt\n",
        "\n",
        "  # Get statistics\n",
        "  min_val = column.min()\n",
        "  max_val = column.max()\n",
        "  mean_val = column.mean()\n",
        "  med_val = column.median()\n",
        "  mod_val = column.mode()[0]\n",
        "\n",
        "  print('Minimum:{:.2f}\\nMean:{:.2f}\\nMedian:{:.2f}\\nMode:{:.2f}\\nMaximum:{:.2f}\\n'.format(min_val,\n",
        "                                                                                            mean_val,\n",
        "                                                                                            med_val,\n",
        "                                                                                            mod_val,\n",
        "                                                                                            max_val))\n",
        "  \n",
        "  # Create a figure for 2 subplots (2 rows, 1 column)\n",
        "  fig, ax = plt.subplots(2, 1, figsize = (10,4))\n",
        "\n",
        "  # Plot the histogram   \n",
        "  ax[0].hist(column)\n",
        "  ax[0].set_ylabel('Frequency')\n",
        "\n",
        "  # Add lines for the mean, median, and mode\n",
        "  ax[0].axvline(x=min_val, color = 'gray', linestyle='dashed', linewidth = 2)\n",
        "  ax[0].axvline(x=mean_val, color = 'cyan', linestyle='dashed', linewidth = 2)\n",
        "  ax[0].axvline(x=med_val, color = 'red', linestyle='dashed', linewidth = 2)\n",
        "  ax[0].axvline(x=mod_val, color = 'yellow', linestyle='dashed', linewidth = 2)\n",
        "  ax[0].axvline(x=max_val, color = 'gray', linestyle='dashed', linewidth = 2)\n",
        "\n",
        "  # Plot the boxplot   \n",
        "  ax[1].boxplot(column, vert=False)\n",
        "  ax[1].set_xlabel('Value')\n",
        "\n",
        "  # Add a title to the Figure\n",
        "  fig.suptitle(column.name)\n",
        "\n",
        "  # Show the figure\n",
        "  fig.show()\n",
        "\n",
        "distribution(df_flights['DepDelay'])\n",
        "distribution(df_flights['ArrDelay'])"
      ],
      "metadata": {
        "colab": {
          "base_uri": "https://localhost:8080/",
          "height": 818
        },
        "id": "hb-yxeqr72kg",
        "outputId": "b96d2d42-4a57-484d-9997-2bf05df5eaf0"
      },
      "execution_count": 92,
      "outputs": [
        {
          "output_type": "stream",
          "name": "stdout",
          "text": [
            "Minimum:-63.00\n",
            "Mean:10.35\n",
            "Median:-1.00\n",
            "Mode:-3.00\n",
            "Maximum:1425.00\n",
            "\n",
            "Minimum:-75.00\n",
            "Mean:6.50\n",
            "Median:-3.00\n",
            "Mode:0.00\n",
            "Maximum:1440.00\n",
            "\n"
          ]
        },
        {
          "output_type": "display_data",
          "data": {
            "text/plain": [
              "<Figure size 720x288 with 2 Axes>"
            ],
            "image/png": "[encoded data removed]"
          },
          "metadata": {
            "needs_background": "light"
          }
        },
        {
          "output_type": "display_data",
          "data": {
            "text/plain": [
              "<Figure size 720x288 with 2 Axes>"
            ],
            "image/png": "[encoded data removed]"
          },
          "metadata": {
            "needs_background": "light"
          }
        }
      ]
    },
    {
      "cell_type": "markdown",
      "source": [
        "To identify the outliers, I adapted a function studied in Microsoft Learn's \"Foundations of data science for machine learning\" course. In it, we can analyze statistical metrics (Minimum, Mean, Median, Mode and Maximum) and statistical graphics (Histogram and Box Plot).\n",
        "\n",
        "When analyzing the results of the function applied to departure delays and arrival delays, we notice outliers that complicate and pollute the data analysis. To clean the data, I will eliminate the values smaller than 1 percentile and larger than 90 percentile."
      ],
      "metadata": {
        "id": "8GNd6kbJ0Ex0"
      }
    },
    {
      "cell_type": "code",
      "source": [
        "import numpy as np\n",
        "\n",
        "new_min_depDelay = np.percentile(df_flights.DepDelay, 1)\n",
        "new_max_depDelay = np.percentile(df_flights.DepDelay, 90)\n",
        "df_flights = df_flights[df_flights.DepDelay > new_min_depDelay]\n",
        "df_flights = df_flights[df_flights.DepDelay < new_max_depDelay]\n",
        "\n",
        "new_min_arrDelay = np.percentile(df_flights.ArrDelay, 1)\n",
        "new_max_arrDelay = np.percentile(df_flights.ArrDelay, 90)\n",
        "df_flights = df_flights[df_flights.ArrDelay > new_min_arrDelay]\n",
        "df_flights = df_flights[df_flights.ArrDelay < new_max_arrDelay]\n",
        "\n",
        "distribution(df_flights['DepDelay'])\n",
        "distribution(df_flights['ArrDelay'])"
      ],
      "metadata": {
        "colab": {
          "base_uri": "https://localhost:8080/",
          "height": 818
        },
        "id": "jAZZvV8TL2Qq",
        "outputId": "c2758821-9030-448e-c354-935f796cbd75"
      },
      "execution_count": 93,
      "outputs": [
        {
          "output_type": "stream",
          "name": "stdout",
          "text": [
            "Minimum:-11.00\n",
            "Mean:-0.13\n",
            "Median:-2.00\n",
            "Mode:-3.00\n",
            "Maximum:36.00\n",
            "\n",
            "Minimum:-32.00\n",
            "Mean:-5.68\n",
            "Median:-6.00\n",
            "Mode:0.00\n",
            "Maximum:16.00\n",
            "\n"
          ]
        },
        {
          "output_type": "display_data",
          "data": {
            "text/plain": [
              "<Figure size 720x288 with 2 Axes>"
            ],
            "image/png": "[encoded data removed]"
          },
          "metadata": {
            "needs_background": "light"
          }
        },
        {
          "output_type": "display_data",
          "data": {
            "text/plain": [
              "<Figure size 720x288 with 2 Axes>"
            ],
            "image/png": "[encoded data removed]"
          },
          "metadata": {
            "needs_background": "light"
          }
        }
      ]
    },
    {
      "cell_type": "markdown",
      "source": [
        "By doing this and calling the function again, we notice that the data is cleaner, which makes it easier to interpret and does not pollute the metrics.\n",
        "\n",
        "With the data cleaned, we can move on to the analysis."
      ],
      "metadata": {
        "id": "JiIZ9ARk3gaq"
      }
    },
    {
      "cell_type": "markdown",
      "source": [
        "## Explore the cleaned data."
      ],
      "metadata": {
        "id": "Ft0YO37ZiHDg"
      }
    },
    {
      "cell_type": "markdown",
      "source": [
        "### View summary statistics for the numeric fields in the dataset."
      ],
      "metadata": {
        "id": "mqDYAHYuzN44"
      }
    },
    {
      "cell_type": "code",
      "source": [
        "df_flights.describe()"
      ],
      "metadata": {
        "colab": {
          "base_uri": "https://localhost:8080/",
          "height": 300
        },
        "id": "yp8OegszmRW4",
        "outputId": "72fd80fc-03c8-44f0-eb66-2d481ef92f5f"
      },
      "execution_count": 94,
      "outputs": [
        {
          "output_type": "execute_result",
          "data": {
            "text/plain": [
              "           Year          Month     DayofMonth      DayOfWeek  OriginAirportID  \\\n",
              "count  214500.0  214500.000000  214500.000000  214500.000000    214500.000000   \n",
              "mean     2013.0       7.027296      15.799389       3.904168     12755.329371   \n",
              "std         0.0       2.006267       8.853235       1.998344      1512.139480   \n",
              "min      2013.0       4.000000       1.000000       1.000000     10140.000000   \n",
              "25%      2013.0       5.000000       8.000000       2.000000     11292.000000   \n",
              "50%      2013.0       7.000000      16.000000       4.000000     12892.000000   \n",
              "75%      2013.0       9.000000      23.000000       6.000000     14100.000000   \n",
              "max      2013.0      10.000000      31.000000       7.000000     15376.000000   \n",
              "\n",
              "       DestAirportID     CRSDepTime       DepDelay       DepDel15  \\\n",
              "count  214500.000000  214500.000000  214500.000000  214500.000000   \n",
              "mean    12734.206438    1284.230942      -0.130452       0.057604   \n",
              "std      1506.103555     470.230018       7.260672       0.232993   \n",
              "min     10140.000000       1.000000     -11.000000       0.000000   \n",
              "25%     11292.000000     853.000000      -5.000000       0.000000   \n",
              "50%     12892.000000    1240.000000      -2.000000       0.000000   \n",
              "75%     14057.000000    1658.000000       2.000000       0.000000   \n",
              "max     15376.000000    2359.000000      36.000000       1.000000   \n",
              "\n",
              "          CRSArrTime       ArrDelay       ArrDel15      Cancelled  \n",
              "count  214500.000000  214500.000000  214500.000000  214500.000000  \n",
              "mean     1465.878522      -5.680522       0.032597       0.013305  \n",
              "std       487.646410      10.188473       0.177579       0.114579  \n",
              "min         1.000000     -32.000000       0.000000       0.000000  \n",
              "25%      1055.000000     -13.000000       0.000000       0.000000  \n",
              "50%      1448.000000      -6.000000       0.000000       0.000000  \n",
              "75%      1850.000000       1.000000       0.000000       0.000000  \n",
              "max      2359.000000      16.000000       1.000000       1.000000  "
            ],
            "text/html": [
              "\n",
              "  <div id=\"df-31a9332d-d8b9-4600-b2a1-66171660a37a\">\n",
              "    <div class=\"colab-df-container\">\n",
              "      <div>\n",
              "<style scoped>\n",
              "    .dataframe tbody tr th:only-of-type {\n",
              "        vertical-align: middle;\n",
              "    }\n",
              "\n",
              "    .dataframe tbody tr th {\n",
              "        vertical-align: top;\n",
              "    }\n",
              "\n",
              "    .dataframe thead th {\n",
              "        text-align: right;\n",
              "    }\n",
              "</style>\n",
              "<table border=\"1\" class=\"dataframe\">\n",
              "  <thead>\n",
              "    <tr style=\"text-align: right;\">\n",
              "      <th></th>\n",
              "      <th>Year</th>\n",
              "      <th>Month</th>\n",
              "      <th>DayofMonth</th>\n",
              "      <th>DayOfWeek</th>\n",
              "      <th>OriginAirportID</th>\n",
              "      <th>DestAirportID</th>\n",
              "      <th>CRSDepTime</th>\n",
              "      <th>DepDelay</th>\n",
              "      <th>DepDel15</th>\n",
              "      <th>CRSArrTime</th>\n",
              "      <th>ArrDelay</th>\n",
              "      <th>ArrDel15</th>\n",
              "      <th>Cancelled</th>\n",
              "    </tr>\n",
              "  </thead>\n",
              "  <tbody>\n",
              "    <tr>\n",
              "      <th>count</th>\n",
              "      <td>214500.0</td>\n",
              "      <td>214500.000000</td>\n",
              "      <td>214500.000000</td>\n",
              "      <td>214500.000000</td>\n",
              "      <td>214500.000000</td>\n",
              "      <td>214500.000000</td>\n",
              "      <td>214500.000000</td>\n",
              "      <td>214500.000000</td>\n",
              "      <td>214500.000000</td>\n",
              "      <td>214500.000000</td>\n",
              "      <td>214500.000000</td>\n",
              "      <td>214500.000000</td>\n",
              "      <td>214500.000000</td>\n",
              "    </tr>\n",
              "    <tr>\n",
              "      <th>mean</th>\n",
              "      <td>2013.0</td>\n",
              "      <td>7.027296</td>\n",
              "      <td>15.799389</td>\n",
              "      <td>3.904168</td>\n",
              "      <td>12755.329371</td>\n",
              "      <td>12734.206438</td>\n",
              "      <td>1284.230942</td>\n",
              "      <td>-0.130452</td>\n",
              "      <td>0.057604</td>\n",
              "      <td>1465.878522</td>\n",
              "      <td>-5.680522</td>\n",
              "      <td>0.032597</td>\n",
              "      <td>0.013305</td>\n",
              "    </tr>\n",
              "    <tr>\n",
              "      <th>std</th>\n",
              "      <td>0.0</td>\n",
              "      <td>2.006267</td>\n",
              "      <td>8.853235</td>\n",
              "      <td>1.998344</td>\n",
              "      <td>1512.139480</td>\n",
              "      <td>1506.103555</td>\n",
              "      <td>470.230018</td>\n",
              "      <td>7.260672</td>\n",
              "      <td>0.232993</td>\n",
              "      <td>487.646410</td>\n",
              "      <td>10.188473</td>\n",
              "      <td>0.177579</td>\n",
              "      <td>0.114579</td>\n",
              "    </tr>\n",
              "    <tr>\n",
              "      <th>min</th>\n",
              "      <td>2013.0</td>\n",
              "      <td>4.000000</td>\n",
              "      <td>1.000000</td>\n",
              "      <td>1.000000</td>\n",
              "      <td>10140.000000</td>\n",
              "      <td>10140.000000</td>\n",
              "      <td>1.000000</td>\n",
              "      <td>-11.000000</td>\n",
              "      <td>0.000000</td>\n",
              "      <td>1.000000</td>\n",
              "      <td>-32.000000</td>\n",
              "      <td>0.000000</td>\n",
              "      <td>0.000000</td>\n",
              "    </tr>\n",
              "    <tr>\n",
              "      <th>25%</th>\n",
              "      <td>2013.0</td>\n",
              "      <td>5.000000</td>\n",
              "      <td>8.000000</td>\n",
              "      <td>2.000000</td>\n",
              "      <td>11292.000000</td>\n",
              "      <td>11292.000000</td>\n",
              "      <td>853.000000</td>\n",
              "      <td>-5.000000</td>\n",
              "      <td>0.000000</td>\n",
              "      <td>1055.000000</td>\n",
              "      <td>-13.000000</td>\n",
              "      <td>0.000000</td>\n",
              "      <td>0.000000</td>\n",
              "    </tr>\n",
              "    <tr>\n",
              "      <th>50%</th>\n",
              "      <td>2013.0</td>\n",
              "      <td>7.000000</td>\n",
              "      <td>16.000000</td>\n",
              "      <td>4.000000</td>\n",
              "      <td>12892.000000</td>\n",
              "      <td>12892.000000</td>\n",
              "      <td>1240.000000</td>\n",
              "      <td>-2.000000</td>\n",
              "      <td>0.000000</td>\n",
              "      <td>1448.000000</td>\n",
              "      <td>-6.000000</td>\n",
              "      <td>0.000000</td>\n",
              "      <td>0.000000</td>\n",
              "    </tr>\n",
              "    <tr>\n",
              "      <th>75%</th>\n",
              "      <td>2013.0</td>\n",
              "      <td>9.000000</td>\n",
              "      <td>23.000000</td>\n",
              "      <td>6.000000</td>\n",
              "      <td>14100.000000</td>\n",
              "      <td>14057.000000</td>\n",
              "      <td>1658.000000</td>\n",
              "      <td>2.000000</td>\n",
              "      <td>0.000000</td>\n",
              "      <td>1850.000000</td>\n",
              "      <td>1.000000</td>\n",
              "      <td>0.000000</td>\n",
              "      <td>0.000000</td>\n",
              "    </tr>\n",
              "    <tr>\n",
              "      <th>max</th>\n",
              "      <td>2013.0</td>\n",
              "      <td>10.000000</td>\n",
              "      <td>31.000000</td>\n",
              "      <td>7.000000</td>\n",
              "      <td>15376.000000</td>\n",
              "      <td>15376.000000</td>\n",
              "      <td>2359.000000</td>\n",
              "      <td>36.000000</td>\n",
              "      <td>1.000000</td>\n",
              "      <td>2359.000000</td>\n",
              "      <td>16.000000</td>\n",
              "      <td>1.000000</td>\n",
              "      <td>1.000000</td>\n",
              "    </tr>\n",
              "  </tbody>\n",
              "</table>\n",
              "</div>\n",
              "      <button class=\"colab-df-convert\" onclick=\"convertToInteractive('df-31a9332d-d8b9-4600-b2a1-66171660a37a')\"\n",
              "              title=\"Convert this dataframe to an interactive table.\"\n",
              "              style=\"display:none;\">\n",
              "        \n",
              "  <svg xmlns=\"http://www.w3.org/2000/svg\" height=\"24px\"viewBox=\"0 0 24 24\"\n",
              "       width=\"24px\">\n",
              "    <path d=\"M0 0h24v24H0V0z\" fill=\"none\"/>\n",
              "    <path d=\"M18.56 5.44l.94 2.06.94-2.06 2.06-.94-2.06-.94-.94-2.06-.94 2.06-2.06.94zm-11 1L8.5 8.5l.94-2.06 2.06-.94-2.06-.94L8.5 2.5l-.94 2.06-2.06.94zm10 10l.94 2.06.94-2.06 2.06-.94-2.06-.94-.94-2.06-.94 2.06-2.06.94z\"/><path d=\"M17.41 7.96l-1.37-1.37c-.4-.4-.92-.59-1.43-.59-.52 0-1.04.2-1.43.59L10.3 9.45l-7.72 7.72c-.78.78-.78 2.05 0 2.83L4 21.41c.39.39.9.59 1.41.59.51 0 1.02-.2 1.41-.59l7.78-7.78 2.81-2.81c.8-.78.8-2.07 0-2.86zM5.41 20L4 18.59l7.72-7.72 1.47 1.35L5.41 20z\"/>\n",
              "  </svg>\n",
              "      </button>\n",
              "      \n",
              "  <style>\n",
              "    .colab-df-container {\n",
              "      display:flex;\n",
              "      flex-wrap:wrap;\n",
              "      gap: 12px;\n",
              "    }\n",
              "\n",
              "    .colab-df-convert {\n",
              "      background-color: #E8F0FE;\n",
              "      border: none;\n",
              "      border-radius: 50%;\n",
              "      cursor: pointer;\n",
              "      display: none;\n",
              "      fill: #1967D2;\n",
              "      height: 32px;\n",
              "      padding: 0 0 0 0;\n",
              "      width: 32px;\n",
              "    }\n",
              "\n",
              "    .colab-df-convert:hover {\n",
              "      background-color: #E2EBFA;\n",
              "      box-shadow: 0px 1px 2px rgba(60, 64, 67, 0.3), 0px 1px 3px 1px rgba(60, 64, 67, 0.15);\n",
              "      fill: #174EA6;\n",
              "    }\n",
              "\n",
              "    [theme=dark] .colab-df-convert {\n",
              "      background-color: #3B4455;\n",
              "      fill: #D2E3FC;\n",
              "    }\n",
              "\n",
              "    [theme=dark] .colab-df-convert:hover {\n",
              "      background-color: #434B5C;\n",
              "      box-shadow: 0px 1px 3px 1px rgba(0, 0, 0, 0.15);\n",
              "      filter: drop-shadow(0px 1px 2px rgba(0, 0, 0, 0.3));\n",
              "      fill: #FFFFFF;\n",
              "    }\n",
              "  </style>\n",
              "\n",
              "      <script>\n",
              "        const buttonEl =\n",
              "          document.querySelector('#df-31a9332d-d8b9-4600-b2a1-66171660a37a button.colab-df-convert');\n",
              "        buttonEl.style.display =\n",
              "          google.colab.kernel.accessAllowed ? 'block' : 'none';\n",
              "\n",
              "        async function convertToInteractive(key) {\n",
              "          const element = document.querySelector('#df-31a9332d-d8b9-4600-b2a1-66171660a37a');\n",
              "          const dataTable =\n",
              "            await google.colab.kernel.invokeFunction('convertToInteractive',\n",
              "                                                     [key], {});\n",
              "          if (!dataTable) return;\n",
              "\n",
              "          const docLinkHtml = 'Like what you see? Visit the ' +\n",
              "            '<a target=\"_blank\" href=https://colab.research.google.com/notebooks/data_table.ipynb>data table notebook</a>'\n",
              "            + ' to learn more about interactive tables.';\n",
              "          element.innerHTML = '';\n",
              "          dataTable['output_type'] = 'display_data';\n",
              "          await google.colab.output.renderOutput(dataTable, element);\n",
              "          const docLink = document.createElement('div');\n",
              "          docLink.innerHTML = docLinkHtml;\n",
              "          element.appendChild(docLink);\n",
              "        }\n",
              "      </script>\n",
              "    </div>\n",
              "  </div>\n",
              "  "
            ]
          },
          "metadata": {},
          "execution_count": 94
        }
      ]
    },
    {
      "cell_type": "markdown",
      "source": [
        "To generate descriptive statistics, I used the describe function from the pandas library. \n",
        "\n",
        "\"*Descriptive statistics include those that summarize the central tendency, dispersion and shape of a dataset’s distribution, excluding NaN values.*\" (Pandas Documentation)"
      ],
      "metadata": {
        "id": "OTO_JVJl4unT"
      }
    },
    {
      "cell_type": "markdown",
      "source": [
        "### Determine the distribution of the DepDelay and ArrDelay columns."
      ],
      "metadata": {
        "id": "p2WOnBcGxDkd"
      }
    },
    {
      "cell_type": "code",
      "source": [
        "distribution(df_flights['DepDelay'])\n",
        "distribution(df_flights['ArrDelay'])"
      ],
      "metadata": {
        "colab": {
          "base_uri": "https://localhost:8080/",
          "height": 818
        },
        "id": "ad8GQIZgnKYa",
        "outputId": "8a54c2fe-05b9-44f3-eb2c-b5ed668b4b42"
      },
      "execution_count": 95,
      "outputs": [
        {
          "output_type": "stream",
          "name": "stdout",
          "text": [
            "Minimum:-11.00\n",
            "Mean:-0.13\n",
            "Median:-2.00\n",
            "Mode:-3.00\n",
            "Maximum:36.00\n",
            "\n",
            "Minimum:-32.00\n",
            "Mean:-5.68\n",
            "Median:-6.00\n",
            "Mode:0.00\n",
            "Maximum:16.00\n",
            "\n"
          ]
        },
        {
          "output_type": "display_data",
          "data": {
            "text/plain": [
              "<Figure size 720x288 with 2 Axes>"
            ],
            "image/png": "[encoded data removed]"
          },
          "metadata": {
            "needs_background": "light"
          }
        },
        {
          "output_type": "display_data",
          "data": {
            "text/plain": [
              "<Figure size 720x288 with 2 Axes>"
            ],
            "image/png": "[encoded data removed]"
          },
          "metadata": {
            "needs_background": "light"
          }
        }
      ]
    },
    {
      "cell_type": "markdown",
      "source": [
        "### Use statistics, aggregate functions, and visualizations to answer the following questions:\n"
      ],
      "metadata": {
        "id": "Jw3S4vjS0NuZ"
      }
    },
    {
      "cell_type": "markdown",
      "source": [
        "#### What are the average (mean) departure and arrival delays?"
      ],
      "metadata": {
        "id": "O0j6yLQO7c6F"
      }
    },
    {
      "cell_type": "code",
      "source": [
        "print('DepDelay: ', df_flights['DepDelay'].mean())\n",
        "print('ArrDelay: ', df_flights['ArrDelay'].mean())"
      ],
      "metadata": {
        "colab": {
          "base_uri": "https://localhost:8080/"
        },
        "id": "S2XOB0yMyjFF",
        "outputId": "7c33d2dd-77a2-4052-b6fb-0f9db7d6aa1e"
      },
      "execution_count": 96,
      "outputs": [
        {
          "output_type": "stream",
          "name": "stdout",
          "text": [
            "DepDelay:  -0.13045221445221444\n",
            "ArrDelay:  -5.680522144522144\n"
          ]
        }
      ]
    },
    {
      "cell_type": "markdown",
      "source": [
        "By analyzing the mean departure delay and arrival delay, we see that, on mean, flights are not delay departure and arrive a few minutes before the scheduled arrival time."
      ],
      "metadata": {
        "id": "DhdCOs9s6aGl"
      }
    },
    {
      "cell_type": "markdown",
      "source": [
        "#### How do the carriers compare in terms of arrival delay performance?"
      ],
      "metadata": {
        "id": "S7j0pJKO1GZz"
      }
    },
    {
      "cell_type": "code",
      "source": [
        "df_flights.boxplot(column='ArrDelay', by='Carrier', figsize=(8,8))"
      ],
      "metadata": {
        "colab": {
          "base_uri": "https://localhost:8080/",
          "height": 558
        },
        "id": "BWjS5hRj-GK9",
        "outputId": "96004b09-40bb-4575-a822-8d7c033dff39"
      },
      "execution_count": 97,
      "outputs": [
        {
          "output_type": "execute_result",
          "data": {
            "text/plain": [
              "<matplotlib.axes._subplots.AxesSubplot at 0x7f3d06fe0610>"
            ]
          },
          "metadata": {},
          "execution_count": 97
        },
        {
          "output_type": "display_data",
          "data": {
            "text/plain": [
              "<Figure size 576x576 with 1 Axes>"
            ],
            "image/png": "[encoded data removed]"
          },
          "metadata": {
            "needs_background": "light"
          }
        }
      ]
    },
    {
      "cell_type": "markdown",
      "source": [
        "By generating a delay arrival box plot based on carriers, we observed that some carriers (such as 9E, DL, EV and UA) tend to delay arrival less frequently than others (such as AS, F9, US and WN)."
      ],
      "metadata": {
        "id": "RQnyOHgS8Ruw"
      }
    },
    {
      "cell_type": "markdown",
      "source": [
        "#### Are some days of the week more prone to arrival days than others?"
      ],
      "metadata": {
        "id": "ErlpZRhw-nml"
      }
    },
    {
      "cell_type": "code",
      "source": [
        "df_flights.boxplot(column='ArrDelay', by='DayOfWeek', figsize=(8,8))"
      ],
      "metadata": {
        "colab": {
          "base_uri": "https://localhost:8080/",
          "height": 558
        },
        "id": "wsicVvJN-N65",
        "outputId": "ce05f5ce-6a3d-4928-fedc-82cfe868a29e"
      },
      "execution_count": 98,
      "outputs": [
        {
          "output_type": "execute_result",
          "data": {
            "text/plain": [
              "<matplotlib.axes._subplots.AxesSubplot at 0x7f3d1411a5b0>"
            ]
          },
          "metadata": {},
          "execution_count": 98
        },
        {
          "output_type": "display_data",
          "data": {
            "text/plain": [
              "<Figure size 576x576 with 1 Axes>"
            ],
            "image/png": "[encoded data removed]"
          },
          "metadata": {
            "needs_background": "light"
          }
        }
      ]
    },
    {
      "cell_type": "markdown",
      "source": [
        "Generating a boxplot of delay arrival based on the day of the week, we note that Friday is the slightly more prone to arrival than others. However, the other days have little tendency to delay."
      ],
      "metadata": {
        "id": "aMPgJYhi_Klb"
      }
    },
    {
      "cell_type": "markdown",
      "source": [
        "#### Which departure airport has the highest average departure delay?"
      ],
      "metadata": {
        "id": "a8l1bz0N_FUf"
      }
    },
    {
      "cell_type": "code",
      "source": [
        "g_airports = df_flights.groupby(df_flights.OriginAirportName)\n",
        "df_airports = pd.DataFrame(g_airports['DepDelay'].mean()).sort_values('DepDelay', ascending=False)\n",
        "df_airports"
      ],
      "metadata": {
        "colab": {
          "base_uri": "https://localhost:8080/",
          "height": 455
        },
        "id": "MvCpo5xP-4dM",
        "outputId": "7e764e2b-7839-491a-b69a-2868494dbd4e"
      },
      "execution_count": 99,
      "outputs": [
        {
          "output_type": "execute_result",
          "data": {
            "text/plain": [
              "                                                    DepDelay\n",
              "OriginAirportName                                           \n",
              "Chicago Midway International                        3.865294\n",
              "Dallas Love Field                                   3.039141\n",
              "William P Hobby                                     2.706247\n",
              "Denver International                                1.863804\n",
              "Baltimore/Washington International Thurgood Mar...  1.805401\n",
              "...                                                      ...\n",
              "Tucson International                               -2.522114\n",
              "Richmond International                             -2.665944\n",
              "Ted Stevens Anchorage International                -2.886700\n",
              "Kahului Airport                                    -2.905252\n",
              "Long Beach Airport                                 -3.349229\n",
              "\n",
              "[70 rows x 1 columns]"
            ],
            "text/html": [
              "\n",
              "  <div id=\"df-5032860d-1e92-4455-a4d1-3dc5452445ab\">\n",
              "    <div class=\"colab-df-container\">\n",
              "      <div>\n",
              "<style scoped>\n",
              "    .dataframe tbody tr th:only-of-type {\n",
              "        vertical-align: middle;\n",
              "    }\n",
              "\n",
              "    .dataframe tbody tr th {\n",
              "        vertical-align: top;\n",
              "    }\n",
              "\n",
              "    .dataframe thead th {\n",
              "        text-align: right;\n",
              "    }\n",
              "</style>\n",
              "<table border=\"1\" class=\"dataframe\">\n",
              "  <thead>\n",
              "    <tr style=\"text-align: right;\">\n",
              "      <th></th>\n",
              "      <th>DepDelay</th>\n",
              "    </tr>\n",
              "    <tr>\n",
              "      <th>OriginAirportName</th>\n",
              "      <th></th>\n",
              "    </tr>\n",
              "  </thead>\n",
              "  <tbody>\n",
              "    <tr>\n",
              "      <th>Chicago Midway International</th>\n",
              "      <td>3.865294</td>\n",
              "    </tr>\n",
              "    <tr>\n",
              "      <th>Dallas Love Field</th>\n",
              "      <td>3.039141</td>\n",
              "    </tr>\n",
              "    <tr>\n",
              "      <th>William P Hobby</th>\n",
              "      <td>2.706247</td>\n",
              "    </tr>\n",
              "    <tr>\n",
              "      <th>Denver International</th>\n",
              "      <td>1.863804</td>\n",
              "    </tr>\n",
              "    <tr>\n",
              "      <th>Baltimore/Washington International Thurgood Marshall</th>\n",
              "      <td>1.805401</td>\n",
              "    </tr>\n",
              "    <tr>\n",
              "      <th>...</th>\n",
              "      <td>...</td>\n",
              "    </tr>\n",
              "    <tr>\n",
              "      <th>Tucson International</th>\n",
              "      <td>-2.522114</td>\n",
              "    </tr>\n",
              "    <tr>\n",
              "      <th>Richmond International</th>\n",
              "      <td>-2.665944</td>\n",
              "    </tr>\n",
              "    <tr>\n",
              "      <th>Ted Stevens Anchorage International</th>\n",
              "      <td>-2.886700</td>\n",
              "    </tr>\n",
              "    <tr>\n",
              "      <th>Kahului Airport</th>\n",
              "      <td>-2.905252</td>\n",
              "    </tr>\n",
              "    <tr>\n",
              "      <th>Long Beach Airport</th>\n",
              "      <td>-3.349229</td>\n",
              "    </tr>\n",
              "  </tbody>\n",
              "</table>\n",
              "<p>70 rows × 1 columns</p>\n",
              "</div>\n",
              "      <button class=\"colab-df-convert\" onclick=\"convertToInteractive('df-5032860d-1e92-4455-a4d1-3dc5452445ab')\"\n",
              "              title=\"Convert this dataframe to an interactive table.\"\n",
              "              style=\"display:none;\">\n",
              "        \n",
              "  <svg xmlns=\"http://www.w3.org/2000/svg\" height=\"24px\"viewBox=\"0 0 24 24\"\n",
              "       width=\"24px\">\n",
              "    <path d=\"M0 0h24v24H0V0z\" fill=\"none\"/>\n",
              "    <path d=\"M18.56 5.44l.94 2.06.94-2.06 2.06-.94-2.06-.94-.94-2.06-.94 2.06-2.06.94zm-11 1L8.5 8.5l.94-2.06 2.06-.94-2.06-.94L8.5 2.5l-.94 2.06-2.06.94zm10 10l.94 2.06.94-2.06 2.06-.94-2.06-.94-.94-2.06-.94 2.06-2.06.94z\"/><path d=\"M17.41 7.96l-1.37-1.37c-.4-.4-.92-.59-1.43-.59-.52 0-1.04.2-1.43.59L10.3 9.45l-7.72 7.72c-.78.78-.78 2.05 0 2.83L4 21.41c.39.39.9.59 1.41.59.51 0 1.02-.2 1.41-.59l7.78-7.78 2.81-2.81c.8-.78.8-2.07 0-2.86zM5.41 20L4 18.59l7.72-7.72 1.47 1.35L5.41 20z\"/>\n",
              "  </svg>\n",
              "      </button>\n",
              "      \n",
              "  <style>\n",
              "    .colab-df-container {\n",
              "      display:flex;\n",
              "      flex-wrap:wrap;\n",
              "      gap: 12px;\n",
              "    }\n",
              "\n",
              "    .colab-df-convert {\n",
              "      background-color: #E8F0FE;\n",
              "      border: none;\n",
              "      border-radius: 50%;\n",
              "      cursor: pointer;\n",
              "      display: none;\n",
              "      fill: #1967D2;\n",
              "      height: 32px;\n",
              "      padding: 0 0 0 0;\n",
              "      width: 32px;\n",
              "    }\n",
              "\n",
              "    .colab-df-convert:hover {\n",
              "      background-color: #E2EBFA;\n",
              "      box-shadow: 0px 1px 2px rgba(60, 64, 67, 0.3), 0px 1px 3px 1px rgba(60, 64, 67, 0.15);\n",
              "      fill: #174EA6;\n",
              "    }\n",
              "\n",
              "    [theme=dark] .colab-df-convert {\n",
              "      background-color: #3B4455;\n",
              "      fill: #D2E3FC;\n",
              "    }\n",
              "\n",
              "    [theme=dark] .colab-df-convert:hover {\n",
              "      background-color: #434B5C;\n",
              "      box-shadow: 0px 1px 3px 1px rgba(0, 0, 0, 0.15);\n",
              "      filter: drop-shadow(0px 1px 2px rgba(0, 0, 0, 0.3));\n",
              "      fill: #FFFFFF;\n",
              "    }\n",
              "  </style>\n",
              "\n",
              "      <script>\n",
              "        const buttonEl =\n",
              "          document.querySelector('#df-5032860d-1e92-4455-a4d1-3dc5452445ab button.colab-df-convert');\n",
              "        buttonEl.style.display =\n",
              "          google.colab.kernel.accessAllowed ? 'block' : 'none';\n",
              "\n",
              "        async function convertToInteractive(key) {\n",
              "          const element = document.querySelector('#df-5032860d-1e92-4455-a4d1-3dc5452445ab');\n",
              "          const dataTable =\n",
              "            await google.colab.kernel.invokeFunction('convertToInteractive',\n",
              "                                                     [key], {});\n",
              "          if (!dataTable) return;\n",
              "\n",
              "          const docLinkHtml = 'Like what you see? Visit the ' +\n",
              "            '<a target=\"_blank\" href=https://colab.research.google.com/notebooks/data_table.ipynb>data table notebook</a>'\n",
              "            + ' to learn more about interactive tables.';\n",
              "          element.innerHTML = '';\n",
              "          dataTable['output_type'] = 'display_data';\n",
              "          await google.colab.output.renderOutput(dataTable, element);\n",
              "          const docLink = document.createElement('div');\n",
              "          docLink.innerHTML = docLinkHtml;\n",
              "          element.appendChild(docLink);\n",
              "        }\n",
              "      </script>\n",
              "    </div>\n",
              "  </div>\n",
              "  "
            ]
          },
          "metadata": {},
          "execution_count": 99
        }
      ]
    },
    {
      "cell_type": "markdown",
      "source": [
        "By grouping the flights by airport, I created a Data Frame with the mean departure delays for each, sorting the airports from the highest average delay to the lowest.\n",
        "\n",
        "This way I can generate a sorted table."
      ],
      "metadata": {
        "id": "n7tdYILKAlGZ"
      }
    },
    {
      "cell_type": "code",
      "source": [
        "df_airports.plot.bar(figsize=(12,6))"
      ],
      "metadata": {
        "colab": {
          "base_uri": "https://localhost:8080/",
          "height": 670
        },
        "id": "mKf7V70jG1-V",
        "outputId": "55086486-f676-45ce-d77a-8a187fec8f84"
      },
      "execution_count": 100,
      "outputs": [
        {
          "output_type": "execute_result",
          "data": {
            "text/plain": [
              "<matplotlib.axes._subplots.AxesSubplot at 0x7f3d0ac0cca0>"
            ]
          },
          "metadata": {},
          "execution_count": 100
        },
        {
          "output_type": "display_data",
          "data": {
            "text/plain": [
              "<Figure size 864x432 with 1 Axes>"
            ],
            "image/png": "[encoded data removed]"
          },
          "metadata": {
            "needs_background": "light"
          }
        }
      ]
    },
    {
      "cell_type": "markdown",
      "source": [
        "In analyzing the generated bar chart, we notice that **Chicago Midway International Airport** has the highest mean number of delayed departures."
      ],
      "metadata": {
        "id": "xThAeqE0BohQ"
      }
    },
    {
      "cell_type": "markdown",
      "source": [
        "#### Do late departures tend to result in longer arrival delays than on-time departures?"
      ],
      "metadata": {
        "id": "eklGb99PPrgK"
      }
    },
    {
      "cell_type": "code",
      "source": [
        "df_flights.boxplot(column='ArrDelay', by='DepDel15', figsize=(10,10))"
      ],
      "metadata": {
        "colab": {
          "base_uri": "https://localhost:8080/",
          "height": 677
        },
        "id": "vdgKGuM0LBcS",
        "outputId": "0e370e33-7ce6-4672-adc2-56b5adb4669c"
      },
      "execution_count": 101,
      "outputs": [
        {
          "output_type": "execute_result",
          "data": {
            "text/plain": [
              "<matplotlib.axes._subplots.AxesSubplot at 0x7f3d13024970>"
            ]
          },
          "metadata": {},
          "execution_count": 101
        },
        {
          "output_type": "display_data",
          "data": {
            "text/plain": [
              "<Figure size 720x720 with 1 Axes>"
            ],
            "image/png": "[encoded data removed]"
          },
          "metadata": {
            "needs_background": "light"
          }
        }
      ]
    },
    {
      "cell_type": "markdown",
      "source": [
        "Generating a boxplot of delay arrival based on the DepDel15, we note that yes, late departures tend to result in greater delays in arrival than on-time departures"
      ],
      "metadata": {
        "id": "H19AOKQiCJOI"
      }
    },
    {
      "cell_type": "markdown",
      "source": [
        "#### Which route (from origin airport to destination airport) has the most late arrivals?"
      ],
      "metadata": {
        "id": "EuOzn9nQQ4rg"
      }
    },
    {
      "cell_type": "code",
      "source": [
        "# Add a routes column\n",
        "routes  = pd.Series(df_flights['OriginAirportName'] + ' > ' + df_flights['DestAirportName'])\n",
        "df_flights = pd.concat([df_flights, routes.rename(\"Route\")], axis=1)"
      ],
      "metadata": {
        "id": "qcWAzGloQqp8"
      },
      "execution_count": 102,
      "outputs": []
    },
    {
      "cell_type": "markdown",
      "source": [
        "Since there was no routes column, I created one and added it to the Data Frame df_flights"
      ],
      "metadata": {
        "id": "sOdkiCf7Gx01"
      }
    },
    {
      "cell_type": "code",
      "source": [
        "# Group by routes\n",
        "g_routes = df_flights.groupby(df_flights.Route)\n",
        "pd.DataFrame(g_routes['ArrDel15'].sum()).sort_values('ArrDel15', ascending=False)"
      ],
      "metadata": {
        "colab": {
          "base_uri": "https://localhost:8080/",
          "height": 455
        },
        "id": "I53TSeOqGOtV",
        "outputId": "51eae64f-771b-4e51-e686-bc409fb2d74a"
      },
      "execution_count": 103,
      "outputs": [
        {
          "output_type": "execute_result",
          "data": {
            "text/plain": [
              "                                                    ArrDel15\n",
              "Route                                                       \n",
              "San Francisco International > Los Angeles Inter...        67\n",
              "Los Angeles International > San Francisco Inter...        42\n",
              "Detroit Metro Wayne County > Chicago O'Hare Int...        29\n",
              "LaGuardia > Logan International                           29\n",
              "LaGuardia > Chicago O'Hare International                  27\n",
              "...                                                      ...\n",
              "Norman Y. Mineta San Jose International > Honol...         0\n",
              "Norman Y. Mineta San Jose International > Harts...         0\n",
              "Norman Y. Mineta San Jose International > Georg...         0\n",
              "Hartsfield-Jackson Atlanta International > Brad...         0\n",
              "Albuquerque International Sunport > Baltimore/W...         0\n",
              "\n",
              "[2479 rows x 1 columns]"
            ],
            "text/html": [
              "\n",
              "  <div id=\"df-68ff19ce-3bc3-4a8a-b752-4d2d9c49b5bf\">\n",
              "    <div class=\"colab-df-container\">\n",
              "      <div>\n",
              "<style scoped>\n",
              "    .dataframe tbody tr th:only-of-type {\n",
              "        vertical-align: middle;\n",
              "    }\n",
              "\n",
              "    .dataframe tbody tr th {\n",
              "        vertical-align: top;\n",
              "    }\n",
              "\n",
              "    .dataframe thead th {\n",
              "        text-align: right;\n",
              "    }\n",
              "</style>\n",
              "<table border=\"1\" class=\"dataframe\">\n",
              "  <thead>\n",
              "    <tr style=\"text-align: right;\">\n",
              "      <th></th>\n",
              "      <th>ArrDel15</th>\n",
              "    </tr>\n",
              "    <tr>\n",
              "      <th>Route</th>\n",
              "      <th></th>\n",
              "    </tr>\n",
              "  </thead>\n",
              "  <tbody>\n",
              "    <tr>\n",
              "      <th>San Francisco International &gt; Los Angeles International</th>\n",
              "      <td>67</td>\n",
              "    </tr>\n",
              "    <tr>\n",
              "      <th>Los Angeles International &gt; San Francisco International</th>\n",
              "      <td>42</td>\n",
              "    </tr>\n",
              "    <tr>\n",
              "      <th>Detroit Metro Wayne County &gt; Chicago O'Hare International</th>\n",
              "      <td>29</td>\n",
              "    </tr>\n",
              "    <tr>\n",
              "      <th>LaGuardia &gt; Logan International</th>\n",
              "      <td>29</td>\n",
              "    </tr>\n",
              "    <tr>\n",
              "      <th>LaGuardia &gt; Chicago O'Hare International</th>\n",
              "      <td>27</td>\n",
              "    </tr>\n",
              "    <tr>\n",
              "      <th>...</th>\n",
              "      <td>...</td>\n",
              "    </tr>\n",
              "    <tr>\n",
              "      <th>Norman Y. Mineta San Jose International &gt; Honolulu International</th>\n",
              "      <td>0</td>\n",
              "    </tr>\n",
              "    <tr>\n",
              "      <th>Norman Y. Mineta San Jose International &gt; Hartsfield-Jackson Atlanta International</th>\n",
              "      <td>0</td>\n",
              "    </tr>\n",
              "    <tr>\n",
              "      <th>Norman Y. Mineta San Jose International &gt; George Bush Intercontinental/Houston</th>\n",
              "      <td>0</td>\n",
              "    </tr>\n",
              "    <tr>\n",
              "      <th>Hartsfield-Jackson Atlanta International &gt; Bradley International</th>\n",
              "      <td>0</td>\n",
              "    </tr>\n",
              "    <tr>\n",
              "      <th>Albuquerque International Sunport &gt; Baltimore/Washington International Thurgood Marshall</th>\n",
              "      <td>0</td>\n",
              "    </tr>\n",
              "  </tbody>\n",
              "</table>\n",
              "<p>2479 rows × 1 columns</p>\n",
              "</div>\n",
              "      <button class=\"colab-df-convert\" onclick=\"convertToInteractive('df-68ff19ce-3bc3-4a8a-b752-4d2d9c49b5bf')\"\n",
              "              title=\"Convert this dataframe to an interactive table.\"\n",
              "              style=\"display:none;\">\n",
              "        \n",
              "  <svg xmlns=\"http://www.w3.org/2000/svg\" height=\"24px\"viewBox=\"0 0 24 24\"\n",
              "       width=\"24px\">\n",
              "    <path d=\"M0 0h24v24H0V0z\" fill=\"none\"/>\n",
              "    <path d=\"M18.56 5.44l.94 2.06.94-2.06 2.06-.94-2.06-.94-.94-2.06-.94 2.06-2.06.94zm-11 1L8.5 8.5l.94-2.06 2.06-.94-2.06-.94L8.5 2.5l-.94 2.06-2.06.94zm10 10l.94 2.06.94-2.06 2.06-.94-2.06-.94-.94-2.06-.94 2.06-2.06.94z\"/><path d=\"M17.41 7.96l-1.37-1.37c-.4-.4-.92-.59-1.43-.59-.52 0-1.04.2-1.43.59L10.3 9.45l-7.72 7.72c-.78.78-.78 2.05 0 2.83L4 21.41c.39.39.9.59 1.41.59.51 0 1.02-.2 1.41-.59l7.78-7.78 2.81-2.81c.8-.78.8-2.07 0-2.86zM5.41 20L4 18.59l7.72-7.72 1.47 1.35L5.41 20z\"/>\n",
              "  </svg>\n",
              "      </button>\n",
              "      \n",
              "  <style>\n",
              "    .colab-df-container {\n",
              "      display:flex;\n",
              "      flex-wrap:wrap;\n",
              "      gap: 12px;\n",
              "    }\n",
              "\n",
              "    .colab-df-convert {\n",
              "      background-color: #E8F0FE;\n",
              "      border: none;\n",
              "      border-radius: 50%;\n",
              "      cursor: pointer;\n",
              "      display: none;\n",
              "      fill: #1967D2;\n",
              "      height: 32px;\n",
              "      padding: 0 0 0 0;\n",
              "      width: 32px;\n",
              "    }\n",
              "\n",
              "    .colab-df-convert:hover {\n",
              "      background-color: #E2EBFA;\n",
              "      box-shadow: 0px 1px 2px rgba(60, 64, 67, 0.3), 0px 1px 3px 1px rgba(60, 64, 67, 0.15);\n",
              "      fill: #174EA6;\n",
              "    }\n",
              "\n",
              "    [theme=dark] .colab-df-convert {\n",
              "      background-color: #3B4455;\n",
              "      fill: #D2E3FC;\n",
              "    }\n",
              "\n",
              "    [theme=dark] .colab-df-convert:hover {\n",
              "      background-color: #434B5C;\n",
              "      box-shadow: 0px 1px 3px 1px rgba(0, 0, 0, 0.15);\n",
              "      filter: drop-shadow(0px 1px 2px rgba(0, 0, 0, 0.3));\n",
              "      fill: #FFFFFF;\n",
              "    }\n",
              "  </style>\n",
              "\n",
              "      <script>\n",
              "        const buttonEl =\n",
              "          document.querySelector('#df-68ff19ce-3bc3-4a8a-b752-4d2d9c49b5bf button.colab-df-convert');\n",
              "        buttonEl.style.display =\n",
              "          google.colab.kernel.accessAllowed ? 'block' : 'none';\n",
              "\n",
              "        async function convertToInteractive(key) {\n",
              "          const element = document.querySelector('#df-68ff19ce-3bc3-4a8a-b752-4d2d9c49b5bf');\n",
              "          const dataTable =\n",
              "            await google.colab.kernel.invokeFunction('convertToInteractive',\n",
              "                                                     [key], {});\n",
              "          if (!dataTable) return;\n",
              "\n",
              "          const docLinkHtml = 'Like what you see? Visit the ' +\n",
              "            '<a target=\"_blank\" href=https://colab.research.google.com/notebooks/data_table.ipynb>data table notebook</a>'\n",
              "            + ' to learn more about interactive tables.';\n",
              "          element.innerHTML = '';\n",
              "          dataTable['output_type'] = 'display_data';\n",
              "          await google.colab.output.renderOutput(dataTable, element);\n",
              "          const docLink = document.createElement('div');\n",
              "          docLink.innerHTML = docLinkHtml;\n",
              "          element.appendChild(docLink);\n",
              "        }\n",
              "      </script>\n",
              "    </div>\n",
              "  </div>\n",
              "  "
            ]
          },
          "metadata": {},
          "execution_count": 103
        }
      ]
    },
    {
      "cell_type": "markdown",
      "source": [
        "By grouping the flights by route, I created a Data Table with the sum of all flights with arrival delays longer than 15 minutes.\n",
        "\n",
        "So, we can see that the \"San Francisco International > Los Angeles International\" route has the most late arrivals."
      ],
      "metadata": {
        "id": "JNIzv4GdHMK_"
      }
    },
    {
      "cell_type": "markdown",
      "source": [
        "#### Which route has the highest average arrival delay?"
      ],
      "metadata": {
        "id": "Yy_TkC82TJ_g"
      }
    },
    {
      "cell_type": "code",
      "source": [
        "df_routes = pd.DataFrame(g_routes['ArrDelay'].mean()).sort_values('ArrDelay', ascending=False)\n",
        "df_routes"
      ],
      "metadata": {
        "colab": {
          "base_uri": "https://localhost:8080/",
          "height": 455
        },
        "id": "p9X_vWb3SKmT",
        "outputId": "6a84254b-f6de-4598-8660-3241eaf62f0b"
      },
      "execution_count": 104,
      "outputs": [
        {
          "output_type": "execute_result",
          "data": {
            "text/plain": [
              "                                                     ArrDelay\n",
              "Route                                                        \n",
              "Theodore Francis Green State > Southwest Florid...  12.000000\n",
              "Charlotte Douglas International > General Mitch...  10.000000\n",
              "Indianapolis International > Philadelphia Inter...  10.000000\n",
              "Port Columbus International > Logan International    7.000000\n",
              "Cleveland-Hopkins International > Philadelphia ...   7.000000\n",
              "...                                                       ...\n",
              "Lambert-St. Louis International > Cleveland-Hop... -20.000000\n",
              "Jacksonville International > Chicago Midway Int... -20.000000\n",
              "Eppley Airfield > LaGuardia                        -20.750000\n",
              "Denver International > Kahului Airport             -22.666667\n",
              "Indianapolis International > Logan International   -26.000000\n",
              "\n",
              "[2479 rows x 1 columns]"
            ],
            "text/html": [
              "\n",
              "  <div id=\"df-ad43f6cd-efea-4d2e-8320-e6556f6ddc94\">\n",
              "    <div class=\"colab-df-container\">\n",
              "      <div>\n",
              "<style scoped>\n",
              "    .dataframe tbody tr th:only-of-type {\n",
              "        vertical-align: middle;\n",
              "    }\n",
              "\n",
              "    .dataframe tbody tr th {\n",
              "        vertical-align: top;\n",
              "    }\n",
              "\n",
              "    .dataframe thead th {\n",
              "        text-align: right;\n",
              "    }\n",
              "</style>\n",
              "<table border=\"1\" class=\"dataframe\">\n",
              "  <thead>\n",
              "    <tr style=\"text-align: right;\">\n",
              "      <th></th>\n",
              "      <th>ArrDelay</th>\n",
              "    </tr>\n",
              "    <tr>\n",
              "      <th>Route</th>\n",
              "      <th></th>\n",
              "    </tr>\n",
              "  </thead>\n",
              "  <tbody>\n",
              "    <tr>\n",
              "      <th>Theodore Francis Green State &gt; Southwest Florida International</th>\n",
              "      <td>12.000000</td>\n",
              "    </tr>\n",
              "    <tr>\n",
              "      <th>Charlotte Douglas International &gt; General Mitchell International</th>\n",
              "      <td>10.000000</td>\n",
              "    </tr>\n",
              "    <tr>\n",
              "      <th>Indianapolis International &gt; Philadelphia International</th>\n",
              "      <td>10.000000</td>\n",
              "    </tr>\n",
              "    <tr>\n",
              "      <th>Port Columbus International &gt; Logan International</th>\n",
              "      <td>7.000000</td>\n",
              "    </tr>\n",
              "    <tr>\n",
              "      <th>Cleveland-Hopkins International &gt; Philadelphia International</th>\n",
              "      <td>7.000000</td>\n",
              "    </tr>\n",
              "    <tr>\n",
              "      <th>...</th>\n",
              "      <td>...</td>\n",
              "    </tr>\n",
              "    <tr>\n",
              "      <th>Lambert-St. Louis International &gt; Cleveland-Hopkins International</th>\n",
              "      <td>-20.000000</td>\n",
              "    </tr>\n",
              "    <tr>\n",
              "      <th>Jacksonville International &gt; Chicago Midway International</th>\n",
              "      <td>-20.000000</td>\n",
              "    </tr>\n",
              "    <tr>\n",
              "      <th>Eppley Airfield &gt; LaGuardia</th>\n",
              "      <td>-20.750000</td>\n",
              "    </tr>\n",
              "    <tr>\n",
              "      <th>Denver International &gt; Kahului Airport</th>\n",
              "      <td>-22.666667</td>\n",
              "    </tr>\n",
              "    <tr>\n",
              "      <th>Indianapolis International &gt; Logan International</th>\n",
              "      <td>-26.000000</td>\n",
              "    </tr>\n",
              "  </tbody>\n",
              "</table>\n",
              "<p>2479 rows × 1 columns</p>\n",
              "</div>\n",
              "      <button class=\"colab-df-convert\" onclick=\"convertToInteractive('df-ad43f6cd-efea-4d2e-8320-e6556f6ddc94')\"\n",
              "              title=\"Convert this dataframe to an interactive table.\"\n",
              "              style=\"display:none;\">\n",
              "        \n",
              "  <svg xmlns=\"http://www.w3.org/2000/svg\" height=\"24px\"viewBox=\"0 0 24 24\"\n",
              "       width=\"24px\">\n",
              "    <path d=\"M0 0h24v24H0V0z\" fill=\"none\"/>\n",
              "    <path d=\"M18.56 5.44l.94 2.06.94-2.06 2.06-.94-2.06-.94-.94-2.06-.94 2.06-2.06.94zm-11 1L8.5 8.5l.94-2.06 2.06-.94-2.06-.94L8.5 2.5l-.94 2.06-2.06.94zm10 10l.94 2.06.94-2.06 2.06-.94-2.06-.94-.94-2.06-.94 2.06-2.06.94z\"/><path d=\"M17.41 7.96l-1.37-1.37c-.4-.4-.92-.59-1.43-.59-.52 0-1.04.2-1.43.59L10.3 9.45l-7.72 7.72c-.78.78-.78 2.05 0 2.83L4 21.41c.39.39.9.59 1.41.59.51 0 1.02-.2 1.41-.59l7.78-7.78 2.81-2.81c.8-.78.8-2.07 0-2.86zM5.41 20L4 18.59l7.72-7.72 1.47 1.35L5.41 20z\"/>\n",
              "  </svg>\n",
              "      </button>\n",
              "      \n",
              "  <style>\n",
              "    .colab-df-container {\n",
              "      display:flex;\n",
              "      flex-wrap:wrap;\n",
              "      gap: 12px;\n",
              "    }\n",
              "\n",
              "    .colab-df-convert {\n",
              "      background-color: #E8F0FE;\n",
              "      border: none;\n",
              "      border-radius: 50%;\n",
              "      cursor: pointer;\n",
              "      display: none;\n",
              "      fill: #1967D2;\n",
              "      height: 32px;\n",
              "      padding: 0 0 0 0;\n",
              "      width: 32px;\n",
              "    }\n",
              "\n",
              "    .colab-df-convert:hover {\n",
              "      background-color: #E2EBFA;\n",
              "      box-shadow: 0px 1px 2px rgba(60, 64, 67, 0.3), 0px 1px 3px 1px rgba(60, 64, 67, 0.15);\n",
              "      fill: #174EA6;\n",
              "    }\n",
              "\n",
              "    [theme=dark] .colab-df-convert {\n",
              "      background-color: #3B4455;\n",
              "      fill: #D2E3FC;\n",
              "    }\n",
              "\n",
              "    [theme=dark] .colab-df-convert:hover {\n",
              "      background-color: #434B5C;\n",
              "      box-shadow: 0px 1px 3px 1px rgba(0, 0, 0, 0.15);\n",
              "      filter: drop-shadow(0px 1px 2px rgba(0, 0, 0, 0.3));\n",
              "      fill: #FFFFFF;\n",
              "    }\n",
              "  </style>\n",
              "\n",
              "      <script>\n",
              "        const buttonEl =\n",
              "          document.querySelector('#df-ad43f6cd-efea-4d2e-8320-e6556f6ddc94 button.colab-df-convert');\n",
              "        buttonEl.style.display =\n",
              "          google.colab.kernel.accessAllowed ? 'block' : 'none';\n",
              "\n",
              "        async function convertToInteractive(key) {\n",
              "          const element = document.querySelector('#df-ad43f6cd-efea-4d2e-8320-e6556f6ddc94');\n",
              "          const dataTable =\n",
              "            await google.colab.kernel.invokeFunction('convertToInteractive',\n",
              "                                                     [key], {});\n",
              "          if (!dataTable) return;\n",
              "\n",
              "          const docLinkHtml = 'Like what you see? Visit the ' +\n",
              "            '<a target=\"_blank\" href=https://colab.research.google.com/notebooks/data_table.ipynb>data table notebook</a>'\n",
              "            + ' to learn more about interactive tables.';\n",
              "          element.innerHTML = '';\n",
              "          dataTable['output_type'] = 'display_data';\n",
              "          await google.colab.output.renderOutput(dataTable, element);\n",
              "          const docLink = document.createElement('div');\n",
              "          docLink.innerHTML = docLinkHtml;\n",
              "          element.appendChild(docLink);\n",
              "        }\n",
              "      </script>\n",
              "    </div>\n",
              "  </div>\n",
              "  "
            ]
          },
          "metadata": {},
          "execution_count": 104
        }
      ]
    },
    {
      "cell_type": "markdown",
      "source": [
        "Sorting the routes from the highest mean arrive delay to the lowest, we note that, the route with the longest mean delay is \"Theodore Francis Green State > Southwest Florida International \""
      ],
      "metadata": {
        "id": "4qzh1JbwIdV2"
      }
    },
    {
      "cell_type": "markdown",
      "source": [
        "# References\n",
        "* Foundations of data science for machine learning (Microsoft Learn)\n",
        "* https://github.com/MicrosoftDocs/ml-basics/blob/master/challenges/01%20-%20Flights%20Challenge.ipynb"
      ],
      "metadata": {
        "id": "wRAB0AcqIxeP"
      }
    }
  ]
}